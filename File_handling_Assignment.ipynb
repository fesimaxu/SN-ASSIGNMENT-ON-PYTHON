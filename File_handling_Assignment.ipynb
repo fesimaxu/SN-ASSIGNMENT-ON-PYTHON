{
  "nbformat": 4,
  "nbformat_minor": 0,
  "metadata": {
    "colab": {
      "name": "File_handling Assignment.ipynb",
      "provenance": [],
      "authorship_tag": "ABX9TyMx/9M4eOmJZ6+0iS3HOOnQ",
      "include_colab_link": true
    },
    "kernelspec": {
      "name": "python3",
      "display_name": "Python 3"
    },
    "language_info": {
      "name": "python"
    }
  },
  "cells": [
    {
      "cell_type": "markdown",
      "metadata": {
        "id": "view-in-github",
        "colab_type": "text"
      },
      "source": [
        "<a href=\"https://colab.research.google.com/github/fesimaxu/SN-ASSIGNMENT-ON-PYTHON/blob/main/File_handling_Assignment.ipynb\" target=\"_parent\"><img src=\"https://colab.research.google.com/assets/colab-badge.svg\" alt=\"Open In Colab\"/></a>"
      ]
    },
    {
      "cell_type": "markdown",
      "metadata": {
        "id": "osKXjiApVApe"
      },
      "source": [
        "Answer No 1 :\n",
        "file handling using 'w' - creating the file"
      ]
    },
    {
      "cell_type": "code",
      "metadata": {
        "id": "UdceoFxCVUe_"
      },
      "source": [
        "multiplication_table = \"multiple_of_two.txt\"\n",
        "with open(multiplication_table,\"w\") as myfile:\n",
        "  myfile.write(\"product of two\")\n"
      ],
      "execution_count": null,
      "outputs": []
    },
    {
      "cell_type": "markdown",
      "metadata": {
        "id": "2RrpThJqV3Aq"
      },
      "source": [
        "Answer No 2 : using 'r' - reading the file "
      ]
    },
    {
      "cell_type": "code",
      "metadata": {
        "colab": {
          "base_uri": "https://localhost:8080/"
        },
        "id": "__sXLJOMXmd-",
        "outputId": "6a6e4c5f-9e52-4c86-b960-a012bdbcf2c4"
      },
      "source": [
        "with open(multiplication_table,\"r\") as myfile:\n",
        "  print(myfile.read())"
      ],
      "execution_count": null,
      "outputs": [
        {
          "output_type": "stream",
          "text": [
            "product of two\n"
          ],
          "name": "stdout"
        }
      ]
    },
    {
      "cell_type": "code",
      "metadata": {
        "id": "wpmyv-LFgugb"
      },
      "source": [
        "multiplication_table = \"multiple_of_two.txt\"\n",
        "with open(multiplication_table,\"w\") as myfile:\n",
        "  a = 2\n",
        "  i = 1\n",
        "  while i <= 12 :\n",
        "    myfile.writelines(f\" {i} * {a} = {i*a}, \")\n",
        "    i += 1"
      ],
      "execution_count": 12,
      "outputs": []
    },
    {
      "cell_type": "markdown",
      "metadata": {
        "id": "_wxmyQ8_brRg"
      },
      "source": [
        " Answer 3 : \n",
        " To read an print the file"
      ]
    },
    {
      "cell_type": "code",
      "metadata": {
        "colab": {
          "base_uri": "https://localhost:8080/"
        },
        "id": "bNOzD9bNbcGb",
        "outputId": "0dd408d9-151e-4500-eb2d-135af16289dd"
      },
      "source": [
        "with open(multiplication_table,\"r\") as myfile:\n",
        "  print(myfile.read())"
      ],
      "execution_count": 13,
      "outputs": [
        {
          "output_type": "stream",
          "text": [
            " 1 * 2 = 2,  2 * 2 = 4,  3 * 2 = 6,  4 * 2 = 8,  5 * 2 = 10,  6 * 2 = 12,  7 * 2 = 14,  8 * 2 = 16,  9 * 2 = 18,  10 * 2 = 20,  11 * 2 = 22,  12 * 2 = 24, \n"
          ],
          "name": "stdout"
        }
      ]
    }
  ]
}